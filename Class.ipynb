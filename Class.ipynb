{
  "nbformat": 4,
  "nbformat_minor": 0,
  "metadata": {
    "colab": {
      "provenance": [],
      "authorship_tag": "ABX9TyMeTHdMErpovBoLei+ZCV5C",
      "include_colab_link": true
    },
    "kernelspec": {
      "name": "python3",
      "display_name": "Python 3"
    },
    "language_info": {
      "name": "python"
    }
  },
  "cells": [
    {
      "cell_type": "markdown",
      "metadata": {
        "id": "view-in-github",
        "colab_type": "text"
      },
      "source": [
        "<a href=\"https://colab.research.google.com/github/baubab69/-/blob/main/Class.ipynb\" target=\"_parent\"><img src=\"https://colab.research.google.com/assets/colab-badge.svg\" alt=\"Open In Colab\"/></a>"
      ]
    },
    {
      "cell_type": "code",
      "execution_count": 39,
      "metadata": {
        "id": "BDEBQYw3Z7ZD"
      },
      "outputs": [],
      "source": [
        "class ItSpecialist:\n",
        "  def __init__(self, name, speciality, salary):\n",
        "    self.name = name\n",
        "    self.speciality = speciality\n",
        "    self.salary = salary\n",
        "  def tell_about_yourself(self):\n",
        "    return f'Hi! My name is {self.name}. I\\'m a {self.speciality}. My salary is {self.salary} k per second.'\n"
      ]
    },
    {
      "cell_type": "code",
      "source": [
        "jon = ItSpecialist('Jon', 'DE', '150')"
      ],
      "metadata": {
        "id": "uSAeSMcOcn0u"
      },
      "execution_count": 40,
      "outputs": []
    },
    {
      "cell_type": "code",
      "source": [
        "jon"
      ],
      "metadata": {
        "colab": {
          "base_uri": "https://localhost:8080/"
        },
        "id": "FCXLV8E0c5ai",
        "outputId": "0624b40e-cd48-4bdc-ae24-d6c171f71e57"
      },
      "execution_count": 41,
      "outputs": [
        {
          "output_type": "execute_result",
          "data": {
            "text/plain": [
              "<__main__.ItSpecialist at 0x7c557022c850>"
            ]
          },
          "metadata": {},
          "execution_count": 41
        }
      ]
    },
    {
      "cell_type": "code",
      "source": [
        "jon.name"
      ],
      "metadata": {
        "colab": {
          "base_uri": "https://localhost:8080/",
          "height": 35
        },
        "id": "6FhVLXY4dDoJ",
        "outputId": "71d4ec25-7d58-48d6-da88-74eb8a2077eb"
      },
      "execution_count": 42,
      "outputs": [
        {
          "output_type": "execute_result",
          "data": {
            "text/plain": [
              "'Jon'"
            ],
            "application/vnd.google.colaboratory.intrinsic+json": {
              "type": "string"
            }
          },
          "metadata": {},
          "execution_count": 42
        }
      ]
    },
    {
      "cell_type": "code",
      "source": [
        "jon.salary"
      ],
      "metadata": {
        "colab": {
          "base_uri": "https://localhost:8080/",
          "height": 35
        },
        "id": "ll8s30WZdGgg",
        "outputId": "ed1e2292-5399-4362-ef40-b27123e06483"
      },
      "execution_count": 43,
      "outputs": [
        {
          "output_type": "execute_result",
          "data": {
            "text/plain": [
              "'150'"
            ],
            "application/vnd.google.colaboratory.intrinsic+json": {
              "type": "string"
            }
          },
          "metadata": {},
          "execution_count": 43
        }
      ]
    },
    {
      "cell_type": "code",
      "source": [
        "jon.speciality"
      ],
      "metadata": {
        "colab": {
          "base_uri": "https://localhost:8080/",
          "height": 35
        },
        "id": "ZPlo2SjXdKeK",
        "outputId": "a25dc252-5af6-4f84-928c-d5272553b773"
      },
      "execution_count": 44,
      "outputs": [
        {
          "output_type": "execute_result",
          "data": {
            "text/plain": [
              "'DE'"
            ],
            "application/vnd.google.colaboratory.intrinsic+json": {
              "type": "string"
            }
          },
          "metadata": {},
          "execution_count": 44
        }
      ]
    },
    {
      "cell_type": "code",
      "source": [
        "carl = ItSpecialist('Carl','DA', '200')"
      ],
      "metadata": {
        "id": "p5JoB5XOdMjO"
      },
      "execution_count": 45,
      "outputs": []
    },
    {
      "cell_type": "code",
      "source": [
        "jon.tell_about_yourself()"
      ],
      "metadata": {
        "colab": {
          "base_uri": "https://localhost:8080/",
          "height": 35
        },
        "id": "36-C2NdBdaTl",
        "outputId": "54c3753d-14ea-4ceb-a1d9-758a23b0557f"
      },
      "execution_count": 46,
      "outputs": [
        {
          "output_type": "execute_result",
          "data": {
            "text/plain": [
              "\"Hi! My name is Jon. I'm a DE. My salary is 150 k per second.\""
            ],
            "application/vnd.google.colaboratory.intrinsic+json": {
              "type": "string"
            }
          },
          "metadata": {},
          "execution_count": 46
        }
      ]
    },
    {
      "cell_type": "code",
      "source": [
        "carl.tell_about_yourself()"
      ],
      "metadata": {
        "colab": {
          "base_uri": "https://localhost:8080/",
          "height": 35
        },
        "id": "l7m3Ugy5ekAW",
        "outputId": "350d30ad-44b8-481b-bf00-29e5e8ae41cf"
      },
      "execution_count": 47,
      "outputs": [
        {
          "output_type": "execute_result",
          "data": {
            "text/plain": [
              "\"Hi! My name is Carl. I'm a DA. My salary is 200 k per second.\""
            ],
            "application/vnd.google.colaboratory.intrinsic+json": {
              "type": "string"
            }
          },
          "metadata": {},
          "execution_count": 47
        }
      ]
    },
    {
      "cell_type": "code",
      "source": [
        "class DataScientict(ItSpecialist):\n",
        "  def __init__(slef, name, salary):\n",
        "    super().__init__(name, 'DS', salary)\n",
        "\n",
        "\n",
        "  def ml(self, data):\n",
        "    return 'profit for company(and myself)'"
      ],
      "metadata": {
        "id": "hWM47fj7ep9p"
      },
      "execution_count": 48,
      "outputs": []
    },
    {
      "cell_type": "code",
      "source": [
        "gleb = DataScientict('Gleb', '300')"
      ],
      "metadata": {
        "id": "gtiXd3gxfKla"
      },
      "execution_count": 49,
      "outputs": []
    },
    {
      "cell_type": "code",
      "source": [
        "gleb"
      ],
      "metadata": {
        "colab": {
          "base_uri": "https://localhost:8080/"
        },
        "id": "nTeM-MvBfTcE",
        "outputId": "f26f9b8d-3a0d-410f-ce04-3f0ce10bb095"
      },
      "execution_count": 50,
      "outputs": [
        {
          "output_type": "execute_result",
          "data": {
            "text/plain": [
              "<__main__.DataScientict at 0x7c55702146d0>"
            ]
          },
          "metadata": {},
          "execution_count": 50
        }
      ]
    },
    {
      "cell_type": "code",
      "source": [
        "\n",
        "gleb.tell_about_yourself()"
      ],
      "metadata": {
        "colab": {
          "base_uri": "https://localhost:8080/",
          "height": 35
        },
        "id": "6x3AcfBEfUbI",
        "outputId": "93f29337-d514-42f5-ede0-d69714d6f4fe"
      },
      "execution_count": 51,
      "outputs": [
        {
          "output_type": "execute_result",
          "data": {
            "text/plain": [
              "\"Hi! My name is Gleb. I'm a DS. My salary is 300 k per second.\""
            ],
            "application/vnd.google.colaboratory.intrinsic+json": {
              "type": "string"
            }
          },
          "metadata": {},
          "execution_count": 51
        }
      ]
    },
    {
      "cell_type": "code",
      "source": [
        "gleb.ml([1,2,3,4,5,6])"
      ],
      "metadata": {
        "colab": {
          "base_uri": "https://localhost:8080/",
          "height": 35
        },
        "id": "Qpcjw4vZfWJz",
        "outputId": "5699069d-0c55-4656-df16-359fee547a78"
      },
      "execution_count": 52,
      "outputs": [
        {
          "output_type": "execute_result",
          "data": {
            "text/plain": [
              "'profit for company(and myself)'"
            ],
            "application/vnd.google.colaboratory.intrinsic+json": {
              "type": "string"
            }
          },
          "metadata": {},
          "execution_count": 52
        }
      ]
    },
    {
      "cell_type": "code",
      "source": [],
      "metadata": {
        "id": "ZYRfTjVNfwpn"
      },
      "execution_count": 52,
      "outputs": []
    }
  ]
}